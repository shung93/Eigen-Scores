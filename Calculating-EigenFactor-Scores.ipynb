{
 "cells": [
  {
   "cell_type": "code",
   "execution_count": 2,
   "metadata": {},
   "outputs": [],
   "source": [
    "#!/usr/bin/env python\n",
    "\n",
    "# Import the relevant libraries \n",
    "import numpy as np\n",
    "import pandas as pd\n",
    "import time\n"
   ]
  },
  {
   "cell_type": "code",
   "execution_count": 3,
   "metadata": {},
   "outputs": [],
   "source": [
    "\n",
    "# Functions needed to load file with edge list and calculate corresponding eigenfactor \n",
    "def num_node(file):\n",
    "    \"\"\"Reads in a file where the first column (jrnl) is the original journal and the \n",
    "    second column (jrnl_cited) is the referenced journal. Will find the number of \n",
    "    unique journals from both columns and return the larger unique number \n",
    "    (i.e., the greatest number of unique journals from the file).\"\"\"\n",
    "    \n",
    "    df = pd.read_csv(file, sep=',',header=None,names=['jrnl','jrnl_cited','ref_count'])\n",
    "    if df['jrnl'].nunique() > df['jrnl_cited'].nunique():\n",
    "        return df['jrnl'].nunique()\n",
    "    else:\n",
    "        return df['jrnl_cited'].nunique()"
   ]
  },
  {
   "cell_type": "code",
   "execution_count": 4,
   "metadata": {},
   "outputs": [],
   "source": [
    "def create_adj_matrix(file, node_count):\n",
    "    \"\"\"Creates an adjacency matrix from a file with edge list. The number of journals is used to set the \n",
    "    shape of the matrix (n*n). Number of journals (nodes) was determined by num_journal function.\n",
    "    Returns a dataframe.\"\"\"\n",
    " \n",
    "    # Create empty n*n matrix (where n = num_node returned from num_journal function)\n",
    "    # Using np.zero function so journals that don't have a match will have a citation count of 0\n",
    "    adj_matrix = np.zeros((node_count, node_count))\n",
    "    \n",
    "    # Open file with edge list\n",
    "    with open(file) as fp:\n",
    "        for index, line in enumerate(fp):\n",
    "            # Splits each line by the comma \n",
    "            line = line.split(',')   \n",
    "            # This is the journal that is doing the citing (using INT to convert to int data type from string)\n",
    "            jrnl = int(line[0])\n",
    "            # This is the journal that is being cited \n",
    "            jrnl_cited = int(line[1])\n",
    "            # This is the number of times that jrnl cited jrnl_cited\n",
    "            ref_count = int(line[2])\n",
    "            # Set the values of the adjacency matrix \n",
    "            # Index of the jrnl (column) matches index of the jrnl_cited (row) and the value is set to ref_count\n",
    "            adj_matrix[jrnl_cited][jrnl] = ref_count \n",
    "    \n",
    "    # returns adj_matrix converted to a dataframe\n",
    "    return adj_matrix"
   ]
  },
  {
   "cell_type": "code",
   "execution_count": 19,
   "metadata": {},
   "outputs": [],
   "source": [
    "def mod_matrix_retrieve_dnode(adj_matrix):\n",
    "    \"\"\"Modifies an existing adjacency matrix (dataframe) by:\n",
    "    - Setting the diagonal to 0\n",
    "    - Normalizing the columns (dividing each entry in the column by the sum of the column)\"\"\"\n",
    "    \n",
    "    # Create empty dangling node vector \n",
    "    dnode_vect = []\n",
    "    \n",
    "    if isinstance(adj_matrix, pd.DataFrame):\n",
    "        adj_matrix = adj_matrix.values\n",
    "    \n",
    "    # Set the diagonal of the adjacency matrix to 0 \n",
    "    # Prevents journals (nodes) from receiving credit for referencing themselves\n",
    "    np.fill_diagonal(adj_matrix, 0)\n",
    "    df=pd.DataFrame(adj_matrix)\n",
    "    \n",
    "    # Normalize the columns by dividing each value by the sum of each column \n",
    "    # Will append values to dangling node vector \n",
    "    # Append 0 to dangling list if sum of columns > 0\n",
    "    # Append 1 to dangling list to identify dangling node (where sum of column = 0)\n",
    "    for column in df:\n",
    "        # Check to see if the sum of the column is zero\n",
    "        # Do nothing to prevent dividing by zero\n",
    "        if abs(df[column].sum()) > 0:\n",
    "            df[column] = df[column]/(df[column].sum())\n",
    "            dnode_vect.append(0)\n",
    "        else:\n",
    "            df[column] = df[column]\n",
    "            dnode_vect.append(1)\n",
    "\n",
    "    h_matrix = df.values\n",
    "\n",
    "    return h_matrix, dnode_vect"
   ]
  },
  {
   "cell_type": "code",
   "execution_count": 6,
   "metadata": {},
   "outputs": [],
   "source": [
    "def calc_article_vect(art_dict={}, num_node=0, dict_present=False):\n",
    "    \"\"\"Calculates article vector. If dict_present is False, it will create an article vector \n",
    "    where all articles publish one paper. \n",
    "    If dict_present is True, takes a dict with journal (key) and \n",
    "    number of articles published (value) for the journal. \n",
    "    Divides number of articles of each journal by the total articles published from all journals.\"\"\"\n",
    "    \n",
    "    art_vect = []\n",
    "    \n",
    "    if dict_present == False:\n",
    "        for _ in range(num_node):\n",
    "            art_vect.append(1/num_node)\n",
    "    else:\n",
    "        a_tot = sum(art_dict.values())\n",
    "        for key, value in art_dict.items():\n",
    "            art_vect.append(value/a_tot)\n",
    "    \n",
    "    return art_vect"
   ]
  },
  {
   "cell_type": "code",
   "execution_count": 7,
   "metadata": {},
   "outputs": [],
   "source": [
    "def calc_start_vect(matrix_h, node_count):\n",
    "    \"\"\"Calculates the initial start vector. Iterates the influence vector. \n",
    "    Vector will equal 1 divided by n (number of unique nodes).\"\"\"\n",
    "    \n",
    "    start_vect = []\n",
    "    \n",
    "    for column in matrix_h:\n",
    "        start_vect.append(1/node_count)\n",
    "    \n",
    "    return start_vect"
   ]
  },
  {
   "cell_type": "code",
   "execution_count": 47,
   "metadata": {},
   "outputs": [],
   "source": [
    "def calc_inf_vector(mat_h, start_vct, art_vct, alpha, d): \n",
    "    \"\"\"Calculates the influence vector. The following equation is used to compute\n",
    "    the influence vector rapidly: \n",
    "    pi^(k+1) = \n",
    "    alpha * matrix_h * start_vect + \n",
    "    [alpha * d_node * start_vect + (1-alpha)] * art_vect\"\"\"\n",
    "     \n",
    "    # Create a copy of matrix_h\n",
    "    #matrix_h_new = matrix_h.copy()\n",
    "    \n",
    "    # multiply alpha with the h matrix using the MULTIPLY function (alpha * H)\n",
    "    alpha_h_start = np.multiply(alpha, mat_h)\n",
    "    # multiply start vector (pi^k) with alpha * H\n",
    "    alpha_h_start = np.dot(alpha_h_start, start_vct)\n",
    "    \n",
    "    # alpha * dangling node * start vector + (1 - alpha)\n",
    "    alpha_dnode_startvect = np.multiply(alpha, d)\n",
    "    alpha_dnode_startvect = np.dot(alpha_dnode_startvect, start_vct)\n",
    "    alpha_dnode_startvect = alpha_dnode_startvect + (1 - alpha)\n",
    "    \n",
    "    # multiply article vector with previous reuslt\n",
    "    alpha_dnode_startvect = np.dot(alpha_dnode_startvect, art_vct)\n",
    "\n",
    "    #return matrix_h_new\n",
    "    inf_vector = alpha_h_start + alpha_dnode_startvect\n",
    "    # testing transposing vector hope it doesn't kill everything\n",
    "    inf_vector = inf_vector.T\n",
    "    return inf_vector"
   ]
  },
  {
   "cell_type": "code",
   "execution_count": 26,
   "metadata": {},
   "outputs": [],
   "source": [
    "def iterate_converge(mat_h, start_vct, art_vct, alpha, epsilon, d):\n",
    "    \"\"\"Checks to see if iteration has converged. \n",
    "    Convergence is found via checking if residual is less than epsilon (calculating the L1 norm). \n",
    "    If convergence has not been reached, iterate again. Counts number of iterations till convergence.\"\"\"\n",
    "    \n",
    "    # Calculate the initial influence vector using the starting vector \n",
    "    inf_vector_k = calc_inf_vector(mat_h=mat_h, start_vct=start_vct, art_vct=art_vct, alpha=alpha, d=d)\n",
    "    # Calculate the first iteration of the influence vector \n",
    "    inf_vector_k1 = calc_inf_vector(mat_h=mat_h, start_vct=inf_vector_k, art_vct=art_vct, alpha=alpha, d=d)\n",
    "    iterate_count = 1\n",
    "    # Calculating the initial L1 norm\n",
    "    l1 = np.linalg.norm((inf_vector_k1 - inf_vector_k), ord=1)\n",
    "    l1 = np.round(l1, decimals=5)\n",
    "    \n",
    "    # If the L1 norm is greater than the epsilon value, continue to iterate \n",
    "    while l1 > epsilon:\n",
    "        # Count the iteration \n",
    "        iterate_count += 1\n",
    "        # Set the reference influence vector to be the iterated influence vector\n",
    "        inf_vector_k = inf_vector_k1\n",
    "        # Calculate next iteration of the influence vector \n",
    "        inf_vector_k1 = calc_inf_vector(mat_h=mat_h, start_vct=inf_vector_k1, art_vct=art_vct, alpha=alpha, d=d)\n",
    "        # Calculate and set the new L1 norm\n",
    "        l1 = np.linalg.norm((inf_vector_k1 - inf_vector_k), ord=1)\n",
    "\n",
    "    return inf_vector_k1, iterate_count"
   ]
  },
  {
   "cell_type": "code",
   "execution_count": 10,
   "metadata": {},
   "outputs": [],
   "source": [
    "def calc_eigenfactor(mat_h, inf_vector):\n",
    "    \"\"\"Calculates the eigenfactor values for each journal. Takes the dot product of the H matrix and the \n",
    "    converged influence vector and normalizes it to sum to 1. Multiplied by 100 to convert to percentage.\n",
    "    Eigenfactor = 100 * ((matrix_h*influence_vector)/sum(matrix_h * influence_vector))\"\"\"\n",
    "    \n",
    "    # Multiply H matrix and converged influence vector \n",
    "    h_inf = np.dot(mat_h, inf_vector)\n",
    "    # Calculate sum of the above result for calculating the normalized sum to 1 \n",
    "    sum_h_inf = np.sum(np.dot(mat_h, inf_vector))\n",
    "    \n",
    "    # Multiply by 100 to caclculate the eigenvalue in percentage \n",
    "    eigenfactor = 100 * (h_inf/sum_h_inf)\n",
    "    \n",
    "    return eigenfactor"
   ]
  },
  {
   "cell_type": "code",
   "execution_count": 11,
   "metadata": {},
   "outputs": [],
   "source": [
    "def top_20_eigenfactor(mat_h, eigenfactor):\n",
    "    \"\"\"Returns the top 20 journals based on their Eigenfactor scores.\"\"\"\n",
    "    \n",
    "    # Create a copy of matrix H\n",
    "    eigen_df = pd.DataFrame(mat_h)\n",
    "    # Rename dataframe's index to Journal\n",
    "    eigen_df.index.name = 'Journal'\n",
    "    # Create an 'Eigenfactor' column with eigenfactor values (calculated from calc_eigenfactor function)\n",
    "    eigen_df['Eigenfactor'] = eigenfactor\n",
    "    # Drop all other columns except 'Eigenfactor'\n",
    "    eigen_df.drop(eigen_df.columns.difference(['Eigenfactor']), 1, inplace=True)\n",
    "    # Pull top 20 results (sorted by Eigenfactor descending)\n",
    "    top_20 = eigen_df.sort_values(by = 'Eigenfactor', ascending=False).head(20)\n",
    "    \n",
    "    return top_20, eigen_df"
   ]
  },
  {
   "cell_type": "code",
   "execution_count": 16,
   "metadata": {},
   "outputs": [],
   "source": [
    "def main():\n",
    "    # Import libraries\n",
    "    import numpy as np\n",
    "    import pandas as pd\n",
    "    import time\n",
    "    \n",
    "    # Setting the constants needed for the algorithm\n",
    "    alpha = 0.85\n",
    "    epsilon = 0.00001\n",
    "\n",
    "    # Set the filepath to a edge list file ('links.txt' in this case)\n",
    "    filepath = 'links.txt'\n",
    "\n",
    "    # Begin timing the code\n",
    "    start_time = time.time()\n",
    "\n",
    "    # Calculate the number of nodes from the edge list\n",
    "    node_count = num_node(filepath)    \n",
    "    # Create an adjacency matrix from the edge list \n",
    "    adj_matrix = create_adj_matrix(file=filepath, node_count=node_count)\n",
    "    # Create the H matrix (which has been modified) and a vector indicating the dangling nodes\n",
    "    h_matrix, d_node= mod_matrix_retrieve_dnode(adj_matrix=adj_matrix)\n",
    "    # Create the article vector, in this case a vector of (1/node_count) for all articles\n",
    "    article_vector = calc_article_vect(num_node=node_count, dict_present=False)\n",
    "    # Create the start vector, the vector used for iterating the influence vector \n",
    "    start_vector = calc_start_vect(matrix_h=h_matrix, node_count=node_count)\n",
    "    # Find the converged influence vector and the number of iterations it took for convergence\n",
    "    influence_vector, iterate_num = iterate_converge(mat_h=h_matrix, start_vct=start_vector, art_vct=article_vector, alpha=alpha, epsilon=epsilon, d=d_node)\n",
    "    # Create a vector with the eigenfactors (for each journal)\n",
    "    eigenfactor_vector = calc_eigenfactor(mat_h=h_matrix, inf_vector=influence_vector)\n",
    "    # Return the scores for the top 20 journals \n",
    "    top20, df = top_20_eigenfactor(h_matrix, eigenfactor_vector)\n",
    "\n",
    "    # End the timer for the code\n",
    "    end_time = time.time()\n",
    "    \n",
    "    # Print top 20 journals and corresponding eigenfactors\n",
    "    article_count=1\n",
    "    for index, value in top20.stack().iteritems():\n",
    "        print(article_count, '. Journal: {0[0]}, Eigenfactor: {1}'.format(index, value), sep='')\n",
    "        article_count+=1\n",
    "\n",
    "    print(\"Total time (seconds):\", end_time-start_time)\n",
    "    print(\"Total number of iterations:\", iterate_num)\n",
    "\n",
    "\n",
    "#if __name__ == \"__main__\":\n",
    "#    main()\n"
   ]
  },
  {
   "cell_type": "code",
   "execution_count": 22,
   "metadata": {},
   "outputs": [],
   "source": [
    "    # Import libraries\n",
    "    import numpy as np\n",
    "    import pandas as pd\n",
    "    import time\n",
    "    \n",
    "    # Setting the constants needed for the algorithm\n",
    "    alpha = 0.85\n",
    "    epsilon = 0.00001\n",
    "\n",
    "    # Set the filepath to a edge list file ('links.txt' in this case)\n",
    "    filepath = 'links.txt'"
   ]
  },
  {
   "cell_type": "code",
   "execution_count": 18,
   "metadata": {},
   "outputs": [
    {
     "name": "stdout",
     "output_type": "stream",
     "text": [
      "Total time (seconds): 5.455376625061035\n"
     ]
    }
   ],
   "source": [
    "start_time = time.time()\n",
    "\n",
    "\n",
    "# Calculate the number of nodes from the edge list\n",
    "node_count = num_node(filepath)    \n",
    "\n",
    "end_time = time.time()\n",
    "print(\"Total time (seconds):\", end_time-start_time)\n"
   ]
  },
  {
   "cell_type": "code",
   "execution_count": 19,
   "metadata": {},
   "outputs": [
    {
     "name": "stdout",
     "output_type": "stream",
     "text": [
      "Total time (seconds): 7.299484491348267\n"
     ]
    }
   ],
   "source": [
    "start_time = time.time()\n",
    "\n",
    "# Create an adjacency matrix from the edge list \n",
    "adj_matrix = create_adj_matrix(file=filepath, node_count=node_count)\n",
    "\n",
    "end_time = time.time()\n",
    "print(\"Total time (seconds):\", end_time-start_time)"
   ]
  },
  {
   "cell_type": "code",
   "execution_count": 20,
   "metadata": {},
   "outputs": [
    {
     "name": "stdout",
     "output_type": "stream",
     "text": [
      "Total time (seconds): 17.607120275497437\n"
     ]
    }
   ],
   "source": [
    "start_time = time.time()\n",
    "\n",
    "\n",
    "# Create the H matrix (which has been modified) and a vector indicating the dangling nodes\n",
    "h_matrix, d_node= mod_matrix_retrieve_dnode(adj_matrix=adj_matrix)\n",
    "\n",
    "end_time = time.time()\n",
    "print(\"Total time (seconds):\", end_time-start_time)"
   ]
  },
  {
   "cell_type": "code",
   "execution_count": 21,
   "metadata": {},
   "outputs": [
    {
     "name": "stdout",
     "output_type": "stream",
     "text": [
      "Total time (seconds): 0.0009596347808837891\n"
     ]
    }
   ],
   "source": [
    "start_time = time.time()\n",
    "\n",
    "\n",
    "# Create the article vector, in this case a vector of (1/node_count) for all articles\n",
    "article_vector = calc_article_vect(num_node=node_count, dict_present=False)\n",
    "\n",
    "end_time = time.time()\n",
    "print(\"Total time (seconds):\", end_time-start_time)"
   ]
  },
  {
   "cell_type": "code",
   "execution_count": 22,
   "metadata": {},
   "outputs": [
    {
     "name": "stdout",
     "output_type": "stream",
     "text": [
      "Total time (seconds): 0.0039899349212646484\n"
     ]
    }
   ],
   "source": [
    "start_time = time.time()\n",
    "\n",
    "\n",
    "# Create the start vector, the vector used for iterating the influence vector \n",
    "start_vector = calc_start_vect(matrix_h=h_matrix, node_count=node_count)\n",
    "\n",
    "end_time = time.time()\n",
    "print(\"Total time (seconds):\", end_time-start_time)"
   ]
  },
  {
   "cell_type": "code",
   "execution_count": 23,
   "metadata": {},
   "outputs": [
    {
     "name": "stdout",
     "output_type": "stream",
     "text": [
      "Total time (seconds): 23.936168432235718\n"
     ]
    }
   ],
   "source": [
    "start_time = time.time()\n",
    "\n",
    "\n",
    "# Find the converged influence vector and the number of iterations it took for convergence\n",
    "influence_vector, iterate_num = iterate_converge(mat_h=h_matrix, start_vct=start_vector, art_vct=article_vector, alpha=alpha, epsilon=epsilon, d=d_node)\n",
    "\n",
    "end_time = time.time()\n",
    "print(\"Total time (seconds):\", end_time-start_time)"
   ]
  },
  {
   "cell_type": "code",
   "execution_count": 24,
   "metadata": {},
   "outputs": [
    {
     "name": "stdout",
     "output_type": "stream",
     "text": [
      "Total time (seconds): 0.13364028930664062\n"
     ]
    }
   ],
   "source": [
    "start_time = time.time()\n",
    "\n",
    "# Create a vector with the eigenfactors (for each journal)\n",
    "eigenfactor_vector = calc_eigenfactor(mat_h=h_matrix, inf_vector=influence_vector)\n",
    "\n",
    "end_time = time.time()\n",
    "print(\"Total time (seconds):\", end_time-start_time)"
   ]
  },
  {
   "cell_type": "code",
   "execution_count": 25,
   "metadata": {},
   "outputs": [
    {
     "name": "stdout",
     "output_type": "stream",
     "text": [
      "Total time (seconds): 2.57810640335083\n"
     ]
    }
   ],
   "source": [
    "start_time = time.time()\n",
    "\n",
    "# Return the scores for the top 20 journals \n",
    "top20, df = top_20_eigenfactor(h_matrix, eigenfactor_vector)\n",
    "\n",
    "end_time = time.time()\n",
    "print(\"Total time (seconds):\", end_time-start_time)"
   ]
  },
  {
   "cell_type": "code",
   "execution_count": 12,
   "metadata": {},
   "outputs": [],
   "source": [
    "# Create the raw matrix \n",
    "raw_matrix = [[1, 0, 2, 0, 4, 3],\n",
    "                [3, 0, 1, 1, 0, 0],\n",
    "                [2, 0, 4, 0, 1, 0],\n",
    "                [0, 0, 1, 0, 0, 1],\n",
    "                [8, 0, 3, 0, 5, 2],\n",
    "                [0, 0, 0, 0, 0, 0]]\n",
    "\n",
    "# Convert to dataframe\n",
    "raw_matrix = pd.DataFrame(raw_matrix)\n",
    "\n",
    "# Rename column headers and row indexes\n",
    "raw_matrix.rename(columns={0:'A',\n",
    "                          1:'B',\n",
    "                          2:'C',\n",
    "                          3:'D',\n",
    "                          4:'E',\n",
    "                          5:'F',}, \n",
    "                  index={0:'A',\n",
    "                        1:'B',\n",
    "                        2:'C',\n",
    "                        3:'D',\n",
    "                        4:'E',\n",
    "                        5:'F',}, \n",
    "                  inplace=True)"
   ]
  },
  {
   "cell_type": "code",
   "execution_count": 13,
   "metadata": {},
   "outputs": [
    {
     "data": {
      "text/html": [
       "<div>\n",
       "<style scoped>\n",
       "    .dataframe tbody tr th:only-of-type {\n",
       "        vertical-align: middle;\n",
       "    }\n",
       "\n",
       "    .dataframe tbody tr th {\n",
       "        vertical-align: top;\n",
       "    }\n",
       "\n",
       "    .dataframe thead th {\n",
       "        text-align: right;\n",
       "    }\n",
       "</style>\n",
       "<table border=\"1\" class=\"dataframe\">\n",
       "  <thead>\n",
       "    <tr style=\"text-align: right;\">\n",
       "      <th></th>\n",
       "      <th>A</th>\n",
       "      <th>B</th>\n",
       "      <th>C</th>\n",
       "      <th>D</th>\n",
       "      <th>E</th>\n",
       "      <th>F</th>\n",
       "    </tr>\n",
       "  </thead>\n",
       "  <tbody>\n",
       "    <tr>\n",
       "      <th>A</th>\n",
       "      <td>1</td>\n",
       "      <td>0</td>\n",
       "      <td>2</td>\n",
       "      <td>0</td>\n",
       "      <td>4</td>\n",
       "      <td>3</td>\n",
       "    </tr>\n",
       "    <tr>\n",
       "      <th>B</th>\n",
       "      <td>3</td>\n",
       "      <td>0</td>\n",
       "      <td>1</td>\n",
       "      <td>1</td>\n",
       "      <td>0</td>\n",
       "      <td>0</td>\n",
       "    </tr>\n",
       "    <tr>\n",
       "      <th>C</th>\n",
       "      <td>2</td>\n",
       "      <td>0</td>\n",
       "      <td>4</td>\n",
       "      <td>0</td>\n",
       "      <td>1</td>\n",
       "      <td>0</td>\n",
       "    </tr>\n",
       "    <tr>\n",
       "      <th>D</th>\n",
       "      <td>0</td>\n",
       "      <td>0</td>\n",
       "      <td>1</td>\n",
       "      <td>0</td>\n",
       "      <td>0</td>\n",
       "      <td>1</td>\n",
       "    </tr>\n",
       "    <tr>\n",
       "      <th>E</th>\n",
       "      <td>8</td>\n",
       "      <td>0</td>\n",
       "      <td>3</td>\n",
       "      <td>0</td>\n",
       "      <td>5</td>\n",
       "      <td>2</td>\n",
       "    </tr>\n",
       "    <tr>\n",
       "      <th>F</th>\n",
       "      <td>0</td>\n",
       "      <td>0</td>\n",
       "      <td>0</td>\n",
       "      <td>0</td>\n",
       "      <td>0</td>\n",
       "      <td>0</td>\n",
       "    </tr>\n",
       "  </tbody>\n",
       "</table>\n",
       "</div>"
      ],
      "text/plain": [
       "   A  B  C  D  E  F\n",
       "A  1  0  2  0  4  3\n",
       "B  3  0  1  1  0  0\n",
       "C  2  0  4  0  1  0\n",
       "D  0  0  1  0  0  1\n",
       "E  8  0  3  0  5  2\n",
       "F  0  0  0  0  0  0"
      ]
     },
     "execution_count": 13,
     "metadata": {},
     "output_type": "execute_result"
    }
   ],
   "source": [
    "raw_matrix"
   ]
  },
  {
   "cell_type": "code",
   "execution_count": 16,
   "metadata": {},
   "outputs": [
    {
     "data": {
      "text/plain": [
       "{'A': 3, 'B': 2, 'C': 5, 'D': 1, 'E': 2, 'F': 1}"
      ]
     },
     "execution_count": 16,
     "metadata": {},
     "output_type": "execute_result"
    }
   ],
   "source": [
    "art_dict={'A':3, 'B':2,'C':5,'D':1,'E':2,'F':1}\n",
    "art_dict"
   ]
  },
  {
   "cell_type": "code",
   "execution_count": 48,
   "metadata": {},
   "outputs": [
    {
     "name": "stdout",
     "output_type": "stream",
     "text": [
      "Time:  0.013027711000177078\n",
      "         Eigenfactor\n",
      "Journal             \n",
      "0          34.051006\n",
      "4          32.916632\n",
      "1          17.203742\n",
      "2          12.175455\n",
      "3           3.653164\n",
      "5           0.000000\n",
      "17\n"
     ]
    }
   ],
   "source": [
    "import timeit\n",
    "\n",
    "start = timeit.default_timer()\n",
    "\n",
    "#node_count = num_node(filepath)\n",
    "#adj_matrix = create_adj_matrix(, node_count=6)\n",
    "h_matrix, d_node= mod_matrix_retrieve_dnode(adj_matrix=raw_matrix)\n",
    "article_vector = calc_article_vect(art_dict=art_dict ,num_node=6, dict_present=True)\n",
    "start_vector = calc_start_vect(matrix_h=h_matrix, node_count=6)\n",
    "influence_vector, iterate_num = iterate_converge(mat_h=h_matrix, start_vct=start_vector, art_vct=article_vector, alpha=alpha, epsilon=epsilon, d=d_node)\n",
    "eigenfactor_vector = calc_eigenfactor(mat_h=h_matrix, inf_vector=influence_vector)\n",
    "top20, df = top_20_eigenfactor(h_matrix, eigenfactor_vector)\n",
    "stop = timeit.default_timer()\n",
    "\n",
    "print('Time: ', stop - start)  \n",
    "\n",
    "print(top20)\n",
    "print(iterate_num)"
   ]
  },
  {
   "cell_type": "code",
   "execution_count": 31,
   "metadata": {},
   "outputs": [
    {
     "data": {
      "text/plain": [
       "array([[0.        , 0.        , 0.28571429, 0.        , 0.8       ,\n",
       "        0.5       ],\n",
       "       [0.23076923, 0.        , 0.14285714, 1.        , 0.        ,\n",
       "        0.        ],\n",
       "       [0.15384615, 0.        , 0.        , 0.        , 0.2       ,\n",
       "        0.        ],\n",
       "       [0.        , 0.        , 0.14285714, 0.        , 0.        ,\n",
       "        0.16666667],\n",
       "       [0.61538462, 0.        , 0.42857143, 0.        , 0.        ,\n",
       "        0.33333333],\n",
       "       [0.        , 0.        , 0.        , 0.        , 0.        ,\n",
       "        0.        ]])"
      ]
     },
     "execution_count": 31,
     "metadata": {},
     "output_type": "execute_result"
    }
   ],
   "source": [
    "h_matrix"
   ]
  },
  {
   "cell_type": "code",
   "execution_count": 34,
   "metadata": {},
   "outputs": [],
   "source": [
    "pi = np.array([.3040, .1636, .1898, 0.0466, 0.2753, 0.0206])"
   ]
  },
  {
   "cell_type": "code",
   "execution_count": 35,
   "metadata": {},
   "outputs": [
    {
     "data": {
      "text/plain": [
       "array([0.28476857, 0.14386813, 0.10182923, 0.03054762, 0.27528645,\n",
       "       0.        ])"
      ]
     },
     "execution_count": 35,
     "metadata": {},
     "output_type": "execute_result"
    }
   ],
   "source": [
    "np.dot(h_matrix, pi)"
   ]
  },
  {
   "cell_type": "code",
   "execution_count": null,
   "metadata": {},
   "outputs": [],
   "source": []
  }
 ],
 "metadata": {
  "kernelspec": {
   "display_name": "Python 3",
   "language": "python",
   "name": "python3"
  },
  "language_info": {
   "codemirror_mode": {
    "name": "ipython",
    "version": 3
   },
   "file_extension": ".py",
   "mimetype": "text/x-python",
   "name": "python",
   "nbconvert_exporter": "python",
   "pygments_lexer": "ipython3",
   "version": "3.7.1"
  }
 },
 "nbformat": 4,
 "nbformat_minor": 2
}
